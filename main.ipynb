{
  "nbformat": 4,
  "nbformat_minor": 0,
  "metadata": {
    "colab": {
      "provenance": [],
      "authorship_tag": "ABX9TyMXTsMY0Aq2Nsppa1QX6c3T",
      "include_colab_link": true
    },
    "kernelspec": {
      "name": "python3",
      "display_name": "Python 3"
    },
    "language_info": {
      "name": "python"
    }
  },
  "cells": [
    {
      "cell_type": "markdown",
      "metadata": {
        "id": "view-in-github",
        "colab_type": "text"
      },
      "source": [
        "<a href=\"https://colab.research.google.com/github/tiarmdhnt/Titanic-Classification-Pipeline/blob/main/main.ipynb\" target=\"_parent\"><img src=\"https://colab.research.google.com/assets/colab-badge.svg\" alt=\"Open In Colab\"/></a>"
      ]
    },
    {
      "cell_type": "code",
      "execution_count": 10,
      "metadata": {
        "id": "73N2G6Q00TD_"
      },
      "outputs": [],
      "source": [
        "from pyspark.sql import SparkSession\n",
        "from pyspark.ml import Pipeline\n",
        "from pyspark.sql.functions import mean,col,split, col, regexp_extract, when, lit\n",
        "from pyspark.ml.feature import StringIndexer\n",
        "from pyspark.ml.feature import VectorAssembler\n",
        "from pyspark.ml.evaluation import MulticlassClassificationEvaluator\n",
        "from pyspark.ml.feature import QuantileDiscretizer"
      ]
    },
    {
      "cell_type": "code",
      "source": [
        "spark = SparkSession \\\n",
        "    .builder \\\n",
        "    .appName(\"Classification Titanic Data\") \\\n",
        "    .getOrCreate()"
      ],
      "metadata": {
        "id": "pSUPuTCE0Ya3"
      },
      "execution_count": 11,
      "outputs": []
    },
    {
      "cell_type": "code",
      "source": [
        "dataset_path = \"/content/train.csv\""
      ],
      "metadata": {
        "id": "dDWEn5i80gkY"
      },
      "execution_count": 12,
      "outputs": []
    },
    {
      "cell_type": "code",
      "source": [
        "titanic_df = spark.read.csv(dataset_path,header = 'True',inferSchema='True')"
      ],
      "metadata": {
        "id": "MauxFL2k0h-K"
      },
      "execution_count": 13,
      "outputs": []
    },
    {
      "cell_type": "code",
      "source": [
        "passengers_count = titanic_df.count()"
      ],
      "metadata": {
        "id": "QLAXPNju0iAP"
      },
      "execution_count": 14,
      "outputs": []
    },
    {
      "cell_type": "code",
      "source": [
        "print(passengers_count)"
      ],
      "metadata": {
        "colab": {
          "base_uri": "https://localhost:8080/"
        },
        "id": "RMm4O_IE0iCs",
        "outputId": "2ba66376-65e8-4a69-c4d3-950a9d682cb7"
      },
      "execution_count": 15,
      "outputs": [
        {
          "output_type": "stream",
          "name": "stdout",
          "text": [
            "891\n"
          ]
        }
      ]
    },
    {
      "cell_type": "code",
      "source": [
        "titanic_df.show(5)"
      ],
      "metadata": {
        "colab": {
          "base_uri": "https://localhost:8080/"
        },
        "id": "nVpuhseN0iFF",
        "outputId": "b5ee0e3b-8f0c-433c-ebee-4d8e5bdcace5"
      },
      "execution_count": 16,
      "outputs": [
        {
          "output_type": "stream",
          "name": "stdout",
          "text": [
            "+-----------+--------+------+--------------------+------+----+-----+-----+----------------+-------+-----+--------+\n",
            "|PassengerId|Survived|Pclass|                Name|   Sex| Age|SibSp|Parch|          Ticket|   Fare|Cabin|Embarked|\n",
            "+-----------+--------+------+--------------------+------+----+-----+-----+----------------+-------+-----+--------+\n",
            "|          1|       0|     3|Braund, Mr. Owen ...|  male|22.0|    1|    0|       A/5 21171|   7.25| NULL|       S|\n",
            "|          2|       1|     1|Cumings, Mrs. Joh...|female|38.0|    1|    0|        PC 17599|71.2833|  C85|       C|\n",
            "|          3|       1|     3|Heikkinen, Miss. ...|female|26.0|    0|    0|STON/O2. 3101282|  7.925| NULL|       S|\n",
            "|          4|       1|     1|Futrelle, Mrs. Ja...|female|35.0|    1|    0|          113803|   53.1| C123|       S|\n",
            "|          5|       0|     3|Allen, Mr. Willia...|  male|35.0|    0|    0|          373450|   8.05| NULL|       S|\n",
            "+-----------+--------+------+--------------------+------+----+-----+-----+----------------+-------+-----+--------+\n",
            "only showing top 5 rows\n",
            "\n"
          ]
        }
      ]
    },
    {
      "cell_type": "markdown",
      "source": [
        "# **Melakukan Proses ETL dan preprocessing dari data yang telah dimuat di HDFS**"
      ],
      "metadata": {
        "id": "Quuds6Yj1bro"
      }
    },
    {
      "cell_type": "code",
      "source": [
        "#Membaca dataset menggunakan spark secara langsung dan masukkan ke suatu variabel\n",
        "titanic_df = spark.read.csv(dataset_path,header = 'True',inferSchema='True')"
      ],
      "metadata": {
        "id": "dbIVTdR80z4a"
      },
      "execution_count": 17,
      "outputs": []
    },
    {
      "cell_type": "code",
      "source": [
        "#Melakukan penghitungan pada data csv\n",
        "\n",
        "passengers_count = titanic_df.count()\n",
        "\n",
        "print(passengers_count)"
      ],
      "metadata": {
        "colab": {
          "base_uri": "https://localhost:8080/"
        },
        "id": "C1jkVDXs01S_",
        "outputId": "702d5f14-f8d2-4dab-d20b-c7ae51a256ba"
      },
      "execution_count": 18,
      "outputs": [
        {
          "output_type": "stream",
          "name": "stdout",
          "text": [
            "891\n"
          ]
        }
      ]
    },
    {
      "cell_type": "code",
      "source": [
        "#Menampilkan 5 data teratas\n",
        "titanic_df.show(5)"
      ],
      "metadata": {
        "colab": {
          "base_uri": "https://localhost:8080/"
        },
        "id": "qzoE4NiB03wt",
        "outputId": "458213b8-6e61-4fe8-9355-3531af279f22"
      },
      "execution_count": 19,
      "outputs": [
        {
          "output_type": "stream",
          "name": "stdout",
          "text": [
            "+-----------+--------+------+--------------------+------+----+-----+-----+----------------+-------+-----+--------+\n",
            "|PassengerId|Survived|Pclass|                Name|   Sex| Age|SibSp|Parch|          Ticket|   Fare|Cabin|Embarked|\n",
            "+-----------+--------+------+--------------------+------+----+-----+-----+----------------+-------+-----+--------+\n",
            "|          1|       0|     3|Braund, Mr. Owen ...|  male|22.0|    1|    0|       A/5 21171|   7.25| NULL|       S|\n",
            "|          2|       1|     1|Cumings, Mrs. Joh...|female|38.0|    1|    0|        PC 17599|71.2833|  C85|       C|\n",
            "|          3|       1|     3|Heikkinen, Miss. ...|female|26.0|    0|    0|STON/O2. 3101282|  7.925| NULL|       S|\n",
            "|          4|       1|     1|Futrelle, Mrs. Ja...|female|35.0|    1|    0|          113803|   53.1| C123|       S|\n",
            "|          5|       0|     3|Allen, Mr. Willia...|  male|35.0|    0|    0|          373450|   8.05| NULL|       S|\n",
            "+-----------+--------+------+--------------------+------+----+-----+-----+----------------+-------+-----+--------+\n",
            "only showing top 5 rows\n",
            "\n"
          ]
        }
      ]
    },
    {
      "cell_type": "code",
      "source": [
        "#Menampilkan semua ringkasan data yang ada\n",
        "titanic_df.describe().show()"
      ],
      "metadata": {
        "colab": {
          "base_uri": "https://localhost:8080/"
        },
        "id": "eCinLRC-05-5",
        "outputId": "c7724a2b-89b9-4fe1-e842-afa5411fbbcf"
      },
      "execution_count": 20,
      "outputs": [
        {
          "output_type": "stream",
          "name": "stdout",
          "text": [
            "+-------+-----------------+-------------------+------------------+--------------------+------+------------------+------------------+-------------------+------------------+-----------------+-----+--------+\n",
            "|summary|      PassengerId|           Survived|            Pclass|                Name|   Sex|               Age|             SibSp|              Parch|            Ticket|             Fare|Cabin|Embarked|\n",
            "+-------+-----------------+-------------------+------------------+--------------------+------+------------------+------------------+-------------------+------------------+-----------------+-----+--------+\n",
            "|  count|              891|                891|               891|                 891|   891|               714|               891|                891|               891|              891|  204|     889|\n",
            "|   mean|            446.0| 0.3838383838383838| 2.308641975308642|                NULL|  NULL| 29.69911764705882|0.5230078563411896|0.38159371492704824|260318.54916792738| 32.2042079685746| NULL|    NULL|\n",
            "| stddev|257.3538420152301|0.48659245426485753|0.8360712409770491|                NULL|  NULL|14.526497332334035|1.1027434322934315| 0.8060572211299488|471609.26868834975|49.69342859718089| NULL|    NULL|\n",
            "|    min|                1|                  0|                 1|\"Andersson, Mr. A...|female|              0.42|                 0|                  0|            110152|              0.0|  A10|       C|\n",
            "|    max|              891|                  1|                 3|van Melkebeke, Mr...|  male|              80.0|                 8|                  6|         WE/P 5735|         512.3292|    T|       S|\n",
            "+-------+-----------------+-------------------+------------------+--------------------+------+------------------+------------------+-------------------+------------------+-----------------+-----+--------+\n",
            "\n"
          ]
        }
      ]
    },
    {
      "cell_type": "code",
      "source": [
        "#Menampilkan skema dari dataset\n",
        "titanic_df.printSchema()"
      ],
      "metadata": {
        "colab": {
          "base_uri": "https://localhost:8080/"
        },
        "id": "nv9YRLwz07m0",
        "outputId": "f2ad3d7e-2f87-4537-c951-2d0f2c25cb55"
      },
      "execution_count": 21,
      "outputs": [
        {
          "output_type": "stream",
          "name": "stdout",
          "text": [
            "root\n",
            " |-- PassengerId: integer (nullable = true)\n",
            " |-- Survived: integer (nullable = true)\n",
            " |-- Pclass: integer (nullable = true)\n",
            " |-- Name: string (nullable = true)\n",
            " |-- Sex: string (nullable = true)\n",
            " |-- Age: double (nullable = true)\n",
            " |-- SibSp: integer (nullable = true)\n",
            " |-- Parch: integer (nullable = true)\n",
            " |-- Ticket: string (nullable = true)\n",
            " |-- Fare: double (nullable = true)\n",
            " |-- Cabin: string (nullable = true)\n",
            " |-- Embarked: string (nullable = true)\n",
            "\n"
          ]
        }
      ]
    },
    {
      "cell_type": "code",
      "source": [
        "#Memilih kolum untuk klasifikasi\n",
        "titanic_df.select(\"Survived\",\"Pclass\",\"Embarked\").show()"
      ],
      "metadata": {
        "colab": {
          "base_uri": "https://localhost:8080/"
        },
        "id": "YlqK7oZH07ve",
        "outputId": "335dc9ef-883a-4527-cf2f-734dfdc86deb"
      },
      "execution_count": 22,
      "outputs": [
        {
          "output_type": "stream",
          "name": "stdout",
          "text": [
            "+--------+------+--------+\n",
            "|Survived|Pclass|Embarked|\n",
            "+--------+------+--------+\n",
            "|       0|     3|       S|\n",
            "|       1|     1|       C|\n",
            "|       1|     3|       S|\n",
            "|       1|     1|       S|\n",
            "|       0|     3|       S|\n",
            "|       0|     3|       Q|\n",
            "|       0|     1|       S|\n",
            "|       0|     3|       S|\n",
            "|       1|     3|       S|\n",
            "|       1|     2|       C|\n",
            "|       1|     3|       S|\n",
            "|       1|     1|       S|\n",
            "|       0|     3|       S|\n",
            "|       0|     3|       S|\n",
            "|       0|     3|       S|\n",
            "|       1|     2|       S|\n",
            "|       0|     3|       Q|\n",
            "|       1|     2|       S|\n",
            "|       0|     3|       S|\n",
            "|       1|     3|       C|\n",
            "+--------+------+--------+\n",
            "only showing top 20 rows\n",
            "\n"
          ]
        }
      ]
    },
    {
      "cell_type": "code",
      "source": [
        "#Menampilkan total status survived\n",
        "titanic_df.groupBy(\"Survived\").count().show()"
      ],
      "metadata": {
        "colab": {
          "base_uri": "https://localhost:8080/"
        },
        "id": "Txdv66El07x_",
        "outputId": "019cd536-9046-4895-cd60-aeef5ac3f4f8"
      },
      "execution_count": 23,
      "outputs": [
        {
          "output_type": "stream",
          "name": "stdout",
          "text": [
            "+--------+-----+\n",
            "|Survived|count|\n",
            "+--------+-----+\n",
            "|       1|  342|\n",
            "|       0|  549|\n",
            "+--------+-----+\n",
            "\n"
          ]
        }
      ]
    },
    {
      "cell_type": "code",
      "source": [
        "#Menampilkan total status survived berdasarkan gender\n",
        "titanic_df.groupBy(\"Sex\",\"Survived\").count().show()"
      ],
      "metadata": {
        "colab": {
          "base_uri": "https://localhost:8080/"
        },
        "id": "_dv9DYL7070F",
        "outputId": "d0d2845c-b091-4fad-8b4d-9b24efc844a1"
      },
      "execution_count": 24,
      "outputs": [
        {
          "output_type": "stream",
          "name": "stdout",
          "text": [
            "+------+--------+-----+\n",
            "|   Sex|Survived|count|\n",
            "+------+--------+-----+\n",
            "|  male|       0|  468|\n",
            "|female|       1|  233|\n",
            "|female|       0|   81|\n",
            "|  male|       1|  109|\n",
            "+------+--------+-----+\n",
            "\n"
          ]
        }
      ]
    },
    {
      "cell_type": "code",
      "source": [
        "#Menampilkan total status survived berdasarkan Pclass\n",
        "titanic_df.groupBy(\"Pclass\",\"Survived\").count().show()"
      ],
      "metadata": {
        "colab": {
          "base_uri": "https://localhost:8080/"
        },
        "id": "JmFKpsbx073G",
        "outputId": "9adbf691-a204-4894-b568-627e029b295b"
      },
      "execution_count": 25,
      "outputs": [
        {
          "output_type": "stream",
          "name": "stdout",
          "text": [
            "+------+--------+-----+\n",
            "|Pclass|Survived|count|\n",
            "+------+--------+-----+\n",
            "|     1|       0|   80|\n",
            "|     3|       1|  119|\n",
            "|     1|       1|  136|\n",
            "|     2|       1|   87|\n",
            "|     2|       0|   97|\n",
            "|     3|       0|  372|\n",
            "+------+--------+-----+\n",
            "\n"
          ]
        }
      ]
    },
    {
      "cell_type": "code",
      "source": [
        "#Mengecek data yang kosong\n",
        "def null_value_count(df):\n",
        "  null_columns_counts = []\n",
        "  numRows = df.count()\n",
        "  for k in df.columns:\n",
        "    nullRows = df.where(col(k).isNull()).count()\n",
        "    if(nullRows > 0):\n",
        "      temp = k,nullRows\n",
        "      null_columns_counts.append(temp)\n",
        "  return(null_columns_counts)\n",
        "\n",
        "null_columns_count_list = null_value_count(titanic_df)\n",
        "\n",
        "import pandas as pd\n",
        "\n",
        "# Load the CSV file\n",
        "df = pd.read_csv(dataset_path)\n",
        "\n",
        "# Display rows with at least one null value\n",
        "print(df[df.isnull().any(axis=1)])\n"
      ],
      "metadata": {
        "colab": {
          "base_uri": "https://localhost:8080/"
        },
        "id": "hw-ADrfY076g",
        "outputId": "097ca2c1-4972-4e08-cf91-c075702b72bb"
      },
      "execution_count": 26,
      "outputs": [
        {
          "output_type": "stream",
          "name": "stdout",
          "text": [
            "     PassengerId  Survived  Pclass                                      Name  \\\n",
            "0              1         0       3                   Braund, Mr. Owen Harris   \n",
            "2              3         1       3                    Heikkinen, Miss. Laina   \n",
            "4              5         0       3                  Allen, Mr. William Henry   \n",
            "5              6         0       3                          Moran, Mr. James   \n",
            "7              8         0       3            Palsson, Master. Gosta Leonard   \n",
            "..           ...       ...     ...                                       ...   \n",
            "884          885         0       3                    Sutehall, Mr. Henry Jr   \n",
            "885          886         0       3      Rice, Mrs. William (Margaret Norton)   \n",
            "886          887         0       2                     Montvila, Rev. Juozas   \n",
            "888          889         0       3  Johnston, Miss. Catherine Helen \"Carrie\"   \n",
            "890          891         0       3                       Dooley, Mr. Patrick   \n",
            "\n",
            "        Sex   Age  SibSp  Parch            Ticket     Fare Cabin Embarked  \n",
            "0      male  22.0      1      0         A/5 21171   7.2500   NaN        S  \n",
            "2    female  26.0      0      0  STON/O2. 3101282   7.9250   NaN        S  \n",
            "4      male  35.0      0      0            373450   8.0500   NaN        S  \n",
            "5      male   NaN      0      0            330877   8.4583   NaN        Q  \n",
            "7      male   2.0      3      1            349909  21.0750   NaN        S  \n",
            "..      ...   ...    ...    ...               ...      ...   ...      ...  \n",
            "884    male  25.0      0      0   SOTON/OQ 392076   7.0500   NaN        S  \n",
            "885  female  39.0      0      5            382652  29.1250   NaN        Q  \n",
            "886    male  27.0      0      0            211536  13.0000   NaN        S  \n",
            "888  female   NaN      1      2        W./C. 6607  23.4500   NaN        S  \n",
            "890    male  32.0      0      0            370376   7.7500   NaN        Q  \n",
            "\n",
            "[708 rows x 12 columns]\n"
          ]
        }
      ]
    },
    {
      "cell_type": "code",
      "source": [
        "#Menampilkan rata-rata usia penumpang\n",
        "mean_age = titanic_df.select(mean('Age')).collect()[0][0]\n",
        "print(mean_age)"
      ],
      "metadata": {
        "colab": {
          "base_uri": "https://localhost:8080/"
        },
        "id": "rYLkoQNe1KXa",
        "outputId": "3c4f1f63-217b-490f-dcf9-94675bf573c7"
      },
      "execution_count": 27,
      "outputs": [
        {
          "output_type": "stream",
          "name": "stdout",
          "text": [
            "29.69911764705882\n"
          ]
        }
      ]
    },
    {
      "cell_type": "code",
      "source": [
        "#Mengambil data dari kolum nama untuk initial\n",
        "titanic_df = titanic_df.withColumn(\"Initial\", regexp_extract(col(\"Name\"), \"([A-Za-z]+)\\\\.\", 1))\n",
        "titanic_df.show()\n"
      ],
      "metadata": {
        "colab": {
          "base_uri": "https://localhost:8080/"
        },
        "id": "ZQp4lUK91K-x",
        "outputId": "b2141319-e87c-4a9d-d710-b2888cc43837"
      },
      "execution_count": 28,
      "outputs": [
        {
          "output_type": "stream",
          "name": "stdout",
          "text": [
            "+-----------+--------+------+--------------------+------+----+-----+-----+----------------+-------+-----+--------+-------+\n",
            "|PassengerId|Survived|Pclass|                Name|   Sex| Age|SibSp|Parch|          Ticket|   Fare|Cabin|Embarked|Initial|\n",
            "+-----------+--------+------+--------------------+------+----+-----+-----+----------------+-------+-----+--------+-------+\n",
            "|          1|       0|     3|Braund, Mr. Owen ...|  male|22.0|    1|    0|       A/5 21171|   7.25| NULL|       S|     Mr|\n",
            "|          2|       1|     1|Cumings, Mrs. Joh...|female|38.0|    1|    0|        PC 17599|71.2833|  C85|       C|    Mrs|\n",
            "|          3|       1|     3|Heikkinen, Miss. ...|female|26.0|    0|    0|STON/O2. 3101282|  7.925| NULL|       S|   Miss|\n",
            "|          4|       1|     1|Futrelle, Mrs. Ja...|female|35.0|    1|    0|          113803|   53.1| C123|       S|    Mrs|\n",
            "|          5|       0|     3|Allen, Mr. Willia...|  male|35.0|    0|    0|          373450|   8.05| NULL|       S|     Mr|\n",
            "|          6|       0|     3|    Moran, Mr. James|  male|NULL|    0|    0|          330877| 8.4583| NULL|       Q|     Mr|\n",
            "|          7|       0|     1|McCarthy, Mr. Tim...|  male|54.0|    0|    0|           17463|51.8625|  E46|       S|     Mr|\n",
            "|          8|       0|     3|Palsson, Master. ...|  male| 2.0|    3|    1|          349909| 21.075| NULL|       S| Master|\n",
            "|          9|       1|     3|Johnson, Mrs. Osc...|female|27.0|    0|    2|          347742|11.1333| NULL|       S|    Mrs|\n",
            "|         10|       1|     2|Nasser, Mrs. Nich...|female|14.0|    1|    0|          237736|30.0708| NULL|       C|    Mrs|\n",
            "|         11|       1|     3|Sandstrom, Miss. ...|female| 4.0|    1|    1|         PP 9549|   16.7|   G6|       S|   Miss|\n",
            "|         12|       1|     1|Bonnell, Miss. El...|female|58.0|    0|    0|          113783|  26.55| C103|       S|   Miss|\n",
            "|         13|       0|     3|Saundercock, Mr. ...|  male|20.0|    0|    0|       A/5. 2151|   8.05| NULL|       S|     Mr|\n",
            "|         14|       0|     3|Andersson, Mr. An...|  male|39.0|    1|    5|          347082| 31.275| NULL|       S|     Mr|\n",
            "|         15|       0|     3|Vestrom, Miss. Hu...|female|14.0|    0|    0|          350406| 7.8542| NULL|       S|   Miss|\n",
            "|         16|       1|     2|Hewlett, Mrs. (Ma...|female|55.0|    0|    0|          248706|   16.0| NULL|       S|    Mrs|\n",
            "|         17|       0|     3|Rice, Master. Eugene|  male| 2.0|    4|    1|          382652| 29.125| NULL|       Q| Master|\n",
            "|         18|       1|     2|Williams, Mr. Cha...|  male|NULL|    0|    0|          244373|   13.0| NULL|       S|     Mr|\n",
            "|         19|       0|     3|Vander Planke, Mr...|female|31.0|    1|    0|          345763|   18.0| NULL|       S|    Mrs|\n",
            "|         20|       1|     3|Masselmani, Mrs. ...|female|NULL|    0|    0|            2649|  7.225| NULL|       C|    Mrs|\n",
            "+-----------+--------+------+--------------------+------+----+-----+-----+----------------+-------+-----+--------+-------+\n",
            "only showing top 20 rows\n",
            "\n"
          ]
        }
      ]
    },
    {
      "cell_type": "code",
      "source": [
        "#Mengambil data dari inisial tanpa perulangan\n",
        "titanic_df.select(\"Initial\").distinct().show()"
      ],
      "metadata": {
        "colab": {
          "base_uri": "https://localhost:8080/"
        },
        "id": "MYK8WGbt1PRD",
        "outputId": "142a055b-5a9f-4f51-a17f-7cf6fed2741b"
      },
      "execution_count": 29,
      "outputs": [
        {
          "output_type": "stream",
          "name": "stdout",
          "text": [
            "+--------+\n",
            "| Initial|\n",
            "+--------+\n",
            "|     Don|\n",
            "|    Miss|\n",
            "|Countess|\n",
            "|     Col|\n",
            "|     Rev|\n",
            "|    Lady|\n",
            "|  Master|\n",
            "|     Mme|\n",
            "|    Capt|\n",
            "|      Mr|\n",
            "|      Dr|\n",
            "|     Mrs|\n",
            "|     Sir|\n",
            "|Jonkheer|\n",
            "|    Mlle|\n",
            "|   Major|\n",
            "|      Ms|\n",
            "+--------+\n",
            "\n"
          ]
        }
      ]
    },
    {
      "cell_type": "code",
      "source": [
        "#Mengubah inisial yang salah\n",
        "titanic_df = titanic_df.replace(['Mlle','Mme', 'Ms', 'Dr','Major','Lady','Countess','Jonkheer','Col','Rev','Capt','Sir','Don'],\n",
        "               ['Miss','Miss','Miss','Mr','Mr',  'Mrs',  'Mrs',  'Other',  'Other','Other','Mr','Mr','Mr'])\n",
        "\n",
        "titanic_df.select(\"Initial\").distinct().show()"
      ],
      "metadata": {
        "colab": {
          "base_uri": "https://localhost:8080/"
        },
        "id": "xijouV4J3qBV",
        "outputId": "effd9da0-f78d-4843-e07b-e0d45ddb8177"
      },
      "execution_count": 30,
      "outputs": [
        {
          "output_type": "stream",
          "name": "stdout",
          "text": [
            "+-------+\n",
            "|Initial|\n",
            "+-------+\n",
            "|   Miss|\n",
            "|  Other|\n",
            "| Master|\n",
            "|     Mr|\n",
            "|    Mrs|\n",
            "+-------+\n",
            "\n"
          ]
        }
      ]
    },
    {
      "cell_type": "code",
      "source": [
        "#Cek rata-rata usia penumpang berdasarkan initial/gender\n",
        "titanic_df.groupby('Initial').avg('Age').collect()"
      ],
      "metadata": {
        "colab": {
          "base_uri": "https://localhost:8080/"
        },
        "id": "iPAuF63y3wKT",
        "outputId": "0aaf250f-2d0d-4f94-b412-06f3713365d5"
      },
      "execution_count": 31,
      "outputs": [
        {
          "output_type": "execute_result",
          "data": {
            "text/plain": [
              "[Row(Initial='Miss', avg(Age)=21.86),\n",
              " Row(Initial='Other', avg(Age)=45.888888888888886),\n",
              " Row(Initial='Master', avg(Age)=4.574166666666667),\n",
              " Row(Initial='Mr', avg(Age)=32.73960880195599),\n",
              " Row(Initial='Mrs', avg(Age)=35.981818181818184)]"
            ]
          },
          "metadata": {},
          "execution_count": 31
        }
      ]
    },
    {
      "cell_type": "code",
      "source": [
        "#Melakukan manipulasi data untuk baris kosong\n",
        "titanic_df = titanic_df.withColumn(\"Age\",when((titanic_df[\"Initial\"] == \"Miss\") & (titanic_df[\"Age\"].isNull()), 22).otherwise(titanic_df[\"Age\"]))\n",
        "titanic_df = titanic_df.withColumn(\"Age\",when((titanic_df[\"Initial\"] == \"Other\") & (titanic_df[\"Age\"].isNull()), 46).otherwise(titanic_df[\"Age\"]))\n",
        "titanic_df = titanic_df.withColumn(\"Age\",when((titanic_df[\"Initial\"] == \"Master\") & (titanic_df[\"Age\"].isNull()), 5).otherwise(titanic_df[\"Age\"]))\n",
        "titanic_df = titanic_df.withColumn(\"Age\",when((titanic_df[\"Initial\"] == \"Mr\") & (titanic_df[\"Age\"].isNull()), 33).otherwise(titanic_df[\"Age\"]))\n",
        "titanic_df = titanic_df.withColumn(\"Age\",when((titanic_df[\"Initial\"] == \"Mrs\") & (titanic_df[\"Age\"].isNull()), 36).otherwise(titanic_df[\"Age\"]))\n",
        "\n",
        "titanic_df.filter(titanic_df.Age==46).select(\"Initial\").show()"
      ],
      "metadata": {
        "colab": {
          "base_uri": "https://localhost:8080/"
        },
        "id": "NTC_sMJY34XO",
        "outputId": "adab8651-4875-4c33-d955-7084015529dd"
      },
      "execution_count": 32,
      "outputs": [
        {
          "output_type": "stream",
          "name": "stdout",
          "text": [
            "+-------+\n",
            "|Initial|\n",
            "+-------+\n",
            "|     Mr|\n",
            "|     Mr|\n",
            "|     Mr|\n",
            "+-------+\n",
            "\n"
          ]
        }
      ]
    },
    {
      "cell_type": "code",
      "source": [
        "titanic_df.select(\"Age\").show()"
      ],
      "metadata": {
        "colab": {
          "base_uri": "https://localhost:8080/"
        },
        "id": "sS4nzbXX4C75",
        "outputId": "48e758c8-f107-4cd6-f67c-c0ccd3b22741"
      },
      "execution_count": 33,
      "outputs": [
        {
          "output_type": "stream",
          "name": "stdout",
          "text": [
            "+----+\n",
            "| Age|\n",
            "+----+\n",
            "|22.0|\n",
            "|38.0|\n",
            "|26.0|\n",
            "|35.0|\n",
            "|35.0|\n",
            "|33.0|\n",
            "|54.0|\n",
            "| 2.0|\n",
            "|27.0|\n",
            "|14.0|\n",
            "| 4.0|\n",
            "|58.0|\n",
            "|20.0|\n",
            "|39.0|\n",
            "|14.0|\n",
            "|55.0|\n",
            "| 2.0|\n",
            "|33.0|\n",
            "|31.0|\n",
            "|36.0|\n",
            "+----+\n",
            "only showing top 20 rows\n",
            "\n"
          ]
        }
      ]
    },
    {
      "cell_type": "code",
      "source": [
        "titanic_df.groupBy(\"Embarked\").count().show()"
      ],
      "metadata": {
        "colab": {
          "base_uri": "https://localhost:8080/"
        },
        "id": "1ky6E9Ze4GqI",
        "outputId": "530688ea-5645-4a13-b444-f9ac6d225360"
      },
      "execution_count": 34,
      "outputs": [
        {
          "output_type": "stream",
          "name": "stdout",
          "text": [
            "+--------+-----+\n",
            "|Embarked|count|\n",
            "+--------+-----+\n",
            "|       Q|   77|\n",
            "|    NULL|    2|\n",
            "|       C|  168|\n",
            "|       S|  644|\n",
            "+--------+-----+\n",
            "\n"
          ]
        }
      ]
    },
    {
      "cell_type": "code",
      "source": [
        "titanic_df = titanic_df.na.fill({\"Embarked\" : 'S'})"
      ],
      "metadata": {
        "id": "XEVP1xOD4IST"
      },
      "execution_count": 35,
      "outputs": []
    },
    {
      "cell_type": "code",
      "source": [
        "#Melakukan penghapusan kolum pada cabin\n",
        "titanic_df = titanic_df.drop(\"Cabin\")\n",
        "titanic_df.printSchema()"
      ],
      "metadata": {
        "colab": {
          "base_uri": "https://localhost:8080/"
        },
        "id": "vxKA1_C14JWW",
        "outputId": "f4429f6d-8bda-4488-b0e6-51e67b3a3cd8"
      },
      "execution_count": 36,
      "outputs": [
        {
          "output_type": "stream",
          "name": "stdout",
          "text": [
            "root\n",
            " |-- PassengerId: integer (nullable = true)\n",
            " |-- Survived: integer (nullable = true)\n",
            " |-- Pclass: integer (nullable = true)\n",
            " |-- Name: string (nullable = true)\n",
            " |-- Sex: string (nullable = true)\n",
            " |-- Age: double (nullable = true)\n",
            " |-- SibSp: integer (nullable = true)\n",
            " |-- Parch: integer (nullable = true)\n",
            " |-- Ticket: string (nullable = true)\n",
            " |-- Fare: double (nullable = true)\n",
            " |-- Embarked: string (nullable = false)\n",
            " |-- Initial: string (nullable = true)\n",
            "\n"
          ]
        }
      ]
    },
    {
      "cell_type": "code",
      "source": [
        "#Melakukan penggabungan data\n",
        "titanic_df = titanic_df.withColumn(\"Family_Size\",col('SibSp')+col('Parch'))"
      ],
      "metadata": {
        "id": "05A4m2--4RSZ"
      },
      "execution_count": 37,
      "outputs": []
    },
    {
      "cell_type": "code",
      "source": [
        "#Meghitung data berdasarkna family size\n",
        "titanic_df.groupBy(\"Family_Size\").count().show()"
      ],
      "metadata": {
        "colab": {
          "base_uri": "https://localhost:8080/"
        },
        "id": "teGd-PYS4VhN",
        "outputId": "499fc1d5-77bb-4f96-b765-2ff578370de9"
      },
      "execution_count": 38,
      "outputs": [
        {
          "output_type": "stream",
          "name": "stdout",
          "text": [
            "+-----------+-----+\n",
            "|Family_Size|count|\n",
            "+-----------+-----+\n",
            "|          1|  161|\n",
            "|          6|   12|\n",
            "|          3|   29|\n",
            "|          5|   22|\n",
            "|          4|   15|\n",
            "|          7|    6|\n",
            "|         10|    7|\n",
            "|          2|  102|\n",
            "|          0|  537|\n",
            "+-----------+-----+\n",
            "\n"
          ]
        }
      ]
    },
    {
      "cell_type": "code",
      "source": [
        "titanic_df = titanic_df.withColumn('Alone',lit(0))\n",
        "titanic_df = titanic_df.withColumn(\"Alone\",when(titanic_df[\"Family_Size\"] == 0, 1).otherwise(titanic_df[\"Alone\"]))\n",
        "titanic_df.columns"
      ],
      "metadata": {
        "colab": {
          "base_uri": "https://localhost:8080/"
        },
        "id": "1wwkNn1e4bOH",
        "outputId": "61a0666d-ef26-4f55-f236-9f85fc60f628"
      },
      "execution_count": 39,
      "outputs": [
        {
          "output_type": "execute_result",
          "data": {
            "text/plain": [
              "['PassengerId',\n",
              " 'Survived',\n",
              " 'Pclass',\n",
              " 'Name',\n",
              " 'Sex',\n",
              " 'Age',\n",
              " 'SibSp',\n",
              " 'Parch',\n",
              " 'Ticket',\n",
              " 'Fare',\n",
              " 'Embarked',\n",
              " 'Initial',\n",
              " 'Family_Size',\n",
              " 'Alone']"
            ]
          },
          "metadata": {},
          "execution_count": 39
        }
      ]
    },
    {
      "cell_type": "code",
      "source": [
        "indexers = [StringIndexer(inputCol=column, outputCol=column+\"_index\").fit(titanic_df) for column in [\"Sex\",\"Embarked\",\"Initial\"]]\n",
        "pipeline = Pipeline(stages=indexers)\n",
        "titanic_df = pipeline.fit(titanic_df).transform(titanic_df)\n",
        "\n",
        "titanic_df.show()"
      ],
      "metadata": {
        "colab": {
          "base_uri": "https://localhost:8080/"
        },
        "id": "QD4ItLdy4qGo",
        "outputId": "6edf4157-d4b5-4d9f-a228-1466253f8e36"
      },
      "execution_count": 40,
      "outputs": [
        {
          "output_type": "stream",
          "name": "stdout",
          "text": [
            "+-----------+--------+------+--------------------+------+----+-----+-----+----------------+-------+--------+-------+-----------+-----+---------+--------------+-------------+\n",
            "|PassengerId|Survived|Pclass|                Name|   Sex| Age|SibSp|Parch|          Ticket|   Fare|Embarked|Initial|Family_Size|Alone|Sex_index|Embarked_index|Initial_index|\n",
            "+-----------+--------+------+--------------------+------+----+-----+-----+----------------+-------+--------+-------+-----------+-----+---------+--------------+-------------+\n",
            "|          1|       0|     3|Braund, Mr. Owen ...|  male|22.0|    1|    0|       A/5 21171|   7.25|       S|     Mr|          1|    0|      0.0|           0.0|          0.0|\n",
            "|          2|       1|     1|Cumings, Mrs. Joh...|female|38.0|    1|    0|        PC 17599|71.2833|       C|    Mrs|          1|    0|      1.0|           1.0|          2.0|\n",
            "|          3|       1|     3|Heikkinen, Miss. ...|female|26.0|    0|    0|STON/O2. 3101282|  7.925|       S|   Miss|          0|    1|      1.0|           0.0|          1.0|\n",
            "|          4|       1|     1|Futrelle, Mrs. Ja...|female|35.0|    1|    0|          113803|   53.1|       S|    Mrs|          1|    0|      1.0|           0.0|          2.0|\n",
            "|          5|       0|     3|Allen, Mr. Willia...|  male|35.0|    0|    0|          373450|   8.05|       S|     Mr|          0|    1|      0.0|           0.0|          0.0|\n",
            "|          6|       0|     3|    Moran, Mr. James|  male|33.0|    0|    0|          330877| 8.4583|       Q|     Mr|          0|    1|      0.0|           2.0|          0.0|\n",
            "|          7|       0|     1|McCarthy, Mr. Tim...|  male|54.0|    0|    0|           17463|51.8625|       S|     Mr|          0|    1|      0.0|           0.0|          0.0|\n",
            "|          8|       0|     3|Palsson, Master. ...|  male| 2.0|    3|    1|          349909| 21.075|       S| Master|          4|    0|      0.0|           0.0|          3.0|\n",
            "|          9|       1|     3|Johnson, Mrs. Osc...|female|27.0|    0|    2|          347742|11.1333|       S|    Mrs|          2|    0|      1.0|           0.0|          2.0|\n",
            "|         10|       1|     2|Nasser, Mrs. Nich...|female|14.0|    1|    0|          237736|30.0708|       C|    Mrs|          1|    0|      1.0|           1.0|          2.0|\n",
            "|         11|       1|     3|Sandstrom, Miss. ...|female| 4.0|    1|    1|         PP 9549|   16.7|       S|   Miss|          2|    0|      1.0|           0.0|          1.0|\n",
            "|         12|       1|     1|Bonnell, Miss. El...|female|58.0|    0|    0|          113783|  26.55|       S|   Miss|          0|    1|      1.0|           0.0|          1.0|\n",
            "|         13|       0|     3|Saundercock, Mr. ...|  male|20.0|    0|    0|       A/5. 2151|   8.05|       S|     Mr|          0|    1|      0.0|           0.0|          0.0|\n",
            "|         14|       0|     3|Andersson, Mr. An...|  male|39.0|    1|    5|          347082| 31.275|       S|     Mr|          6|    0|      0.0|           0.0|          0.0|\n",
            "|         15|       0|     3|Vestrom, Miss. Hu...|female|14.0|    0|    0|          350406| 7.8542|       S|   Miss|          0|    1|      1.0|           0.0|          1.0|\n",
            "|         16|       1|     2|Hewlett, Mrs. (Ma...|female|55.0|    0|    0|          248706|   16.0|       S|    Mrs|          0|    1|      1.0|           0.0|          2.0|\n",
            "|         17|       0|     3|Rice, Master. Eugene|  male| 2.0|    4|    1|          382652| 29.125|       Q| Master|          5|    0|      0.0|           2.0|          3.0|\n",
            "|         18|       1|     2|Williams, Mr. Cha...|  male|33.0|    0|    0|          244373|   13.0|       S|     Mr|          0|    1|      0.0|           0.0|          0.0|\n",
            "|         19|       0|     3|Vander Planke, Mr...|female|31.0|    1|    0|          345763|   18.0|       S|    Mrs|          1|    0|      1.0|           0.0|          2.0|\n",
            "|         20|       1|     3|Masselmani, Mrs. ...|female|36.0|    0|    0|            2649|  7.225|       C|    Mrs|          0|    1|      1.0|           1.0|          2.0|\n",
            "+-----------+--------+------+--------------------+------+----+-----+-----+----------------+-------+--------+-------+-----------+-----+---------+--------------+-------------+\n",
            "only showing top 20 rows\n",
            "\n"
          ]
        }
      ]
    },
    {
      "cell_type": "code",
      "source": [
        "titanic_df.printSchema()"
      ],
      "metadata": {
        "colab": {
          "base_uri": "https://localhost:8080/"
        },
        "id": "p--MRvR94c6C",
        "outputId": "ff42c46d-319d-4724-92cd-2638f04d2146"
      },
      "execution_count": 41,
      "outputs": [
        {
          "output_type": "stream",
          "name": "stdout",
          "text": [
            "root\n",
            " |-- PassengerId: integer (nullable = true)\n",
            " |-- Survived: integer (nullable = true)\n",
            " |-- Pclass: integer (nullable = true)\n",
            " |-- Name: string (nullable = true)\n",
            " |-- Sex: string (nullable = true)\n",
            " |-- Age: double (nullable = true)\n",
            " |-- SibSp: integer (nullable = true)\n",
            " |-- Parch: integer (nullable = true)\n",
            " |-- Ticket: string (nullable = true)\n",
            " |-- Fare: double (nullable = true)\n",
            " |-- Embarked: string (nullable = false)\n",
            " |-- Initial: string (nullable = true)\n",
            " |-- Family_Size: integer (nullable = true)\n",
            " |-- Alone: integer (nullable = false)\n",
            " |-- Sex_index: double (nullable = false)\n",
            " |-- Embarked_index: double (nullable = false)\n",
            " |-- Initial_index: double (nullable = false)\n",
            "\n"
          ]
        }
      ]
    },
    {
      "cell_type": "code",
      "source": [
        "#Menghapus kolom yang tidak digunakan\n",
        "titanic_df = titanic_df.drop(\"PassengerId\",\"Name\",\"Ticket\",\"Cabin\",\"Embarked\",\"Sex\",\"Initial\")\n",
        "titanic_df.show()"
      ],
      "metadata": {
        "colab": {
          "base_uri": "https://localhost:8080/"
        },
        "id": "4UekVZ7-4v1l",
        "outputId": "9ae54ac1-8211-47fd-917a-4c06d22ddd58"
      },
      "execution_count": 42,
      "outputs": [
        {
          "output_type": "stream",
          "name": "stdout",
          "text": [
            "+--------+------+----+-----+-----+-------+-----------+-----+---------+--------------+-------------+\n",
            "|Survived|Pclass| Age|SibSp|Parch|   Fare|Family_Size|Alone|Sex_index|Embarked_index|Initial_index|\n",
            "+--------+------+----+-----+-----+-------+-----------+-----+---------+--------------+-------------+\n",
            "|       0|     3|22.0|    1|    0|   7.25|          1|    0|      0.0|           0.0|          0.0|\n",
            "|       1|     1|38.0|    1|    0|71.2833|          1|    0|      1.0|           1.0|          2.0|\n",
            "|       1|     3|26.0|    0|    0|  7.925|          0|    1|      1.0|           0.0|          1.0|\n",
            "|       1|     1|35.0|    1|    0|   53.1|          1|    0|      1.0|           0.0|          2.0|\n",
            "|       0|     3|35.0|    0|    0|   8.05|          0|    1|      0.0|           0.0|          0.0|\n",
            "|       0|     3|33.0|    0|    0| 8.4583|          0|    1|      0.0|           2.0|          0.0|\n",
            "|       0|     1|54.0|    0|    0|51.8625|          0|    1|      0.0|           0.0|          0.0|\n",
            "|       0|     3| 2.0|    3|    1| 21.075|          4|    0|      0.0|           0.0|          3.0|\n",
            "|       1|     3|27.0|    0|    2|11.1333|          2|    0|      1.0|           0.0|          2.0|\n",
            "|       1|     2|14.0|    1|    0|30.0708|          1|    0|      1.0|           1.0|          2.0|\n",
            "|       1|     3| 4.0|    1|    1|   16.7|          2|    0|      1.0|           0.0|          1.0|\n",
            "|       1|     1|58.0|    0|    0|  26.55|          0|    1|      1.0|           0.0|          1.0|\n",
            "|       0|     3|20.0|    0|    0|   8.05|          0|    1|      0.0|           0.0|          0.0|\n",
            "|       0|     3|39.0|    1|    5| 31.275|          6|    0|      0.0|           0.0|          0.0|\n",
            "|       0|     3|14.0|    0|    0| 7.8542|          0|    1|      1.0|           0.0|          1.0|\n",
            "|       1|     2|55.0|    0|    0|   16.0|          0|    1|      1.0|           0.0|          2.0|\n",
            "|       0|     3| 2.0|    4|    1| 29.125|          5|    0|      0.0|           2.0|          3.0|\n",
            "|       1|     2|33.0|    0|    0|   13.0|          0|    1|      0.0|           0.0|          0.0|\n",
            "|       0|     3|31.0|    1|    0|   18.0|          1|    0|      1.0|           0.0|          2.0|\n",
            "|       1|     3|36.0|    0|    0|  7.225|          0|    1|      1.0|           1.0|          2.0|\n",
            "+--------+------+----+-----+-----+-------+-----------+-----+---------+--------------+-------------+\n",
            "only showing top 20 rows\n",
            "\n"
          ]
        }
      ]
    },
    {
      "cell_type": "code",
      "source": [
        "#Memasukkan ke dalam vektor\n",
        "feature = VectorAssembler(inputCols=titanic_df.columns[1:],outputCol=\"features\")\n",
        "feature_vector= feature.transform(titanic_df)\n",
        "\n",
        "feature_vector.show()"
      ],
      "metadata": {
        "colab": {
          "base_uri": "https://localhost:8080/"
        },
        "id": "PEzQfP_n40PQ",
        "outputId": "4dde2654-dcf2-4827-d5eb-ff8820bd83c9"
      },
      "execution_count": 43,
      "outputs": [
        {
          "output_type": "stream",
          "name": "stdout",
          "text": [
            "+--------+------+----+-----+-----+-------+-----------+-----+---------+--------------+-------------+--------------------+\n",
            "|Survived|Pclass| Age|SibSp|Parch|   Fare|Family_Size|Alone|Sex_index|Embarked_index|Initial_index|            features|\n",
            "+--------+------+----+-----+-----+-------+-----------+-----+---------+--------------+-------------+--------------------+\n",
            "|       0|     3|22.0|    1|    0|   7.25|          1|    0|      0.0|           0.0|          0.0|(10,[0,1,2,4,5],[...|\n",
            "|       1|     1|38.0|    1|    0|71.2833|          1|    0|      1.0|           1.0|          2.0|[1.0,38.0,1.0,0.0...|\n",
            "|       1|     3|26.0|    0|    0|  7.925|          0|    1|      1.0|           0.0|          1.0|[3.0,26.0,0.0,0.0...|\n",
            "|       1|     1|35.0|    1|    0|   53.1|          1|    0|      1.0|           0.0|          2.0|[1.0,35.0,1.0,0.0...|\n",
            "|       0|     3|35.0|    0|    0|   8.05|          0|    1|      0.0|           0.0|          0.0|(10,[0,1,4,6],[3....|\n",
            "|       0|     3|33.0|    0|    0| 8.4583|          0|    1|      0.0|           2.0|          0.0|(10,[0,1,4,6,8],[...|\n",
            "|       0|     1|54.0|    0|    0|51.8625|          0|    1|      0.0|           0.0|          0.0|(10,[0,1,4,6],[1....|\n",
            "|       0|     3| 2.0|    3|    1| 21.075|          4|    0|      0.0|           0.0|          3.0|[3.0,2.0,3.0,1.0,...|\n",
            "|       1|     3|27.0|    0|    2|11.1333|          2|    0|      1.0|           0.0|          2.0|[3.0,27.0,0.0,2.0...|\n",
            "|       1|     2|14.0|    1|    0|30.0708|          1|    0|      1.0|           1.0|          2.0|[2.0,14.0,1.0,0.0...|\n",
            "|       1|     3| 4.0|    1|    1|   16.7|          2|    0|      1.0|           0.0|          1.0|[3.0,4.0,1.0,1.0,...|\n",
            "|       1|     1|58.0|    0|    0|  26.55|          0|    1|      1.0|           0.0|          1.0|[1.0,58.0,0.0,0.0...|\n",
            "|       0|     3|20.0|    0|    0|   8.05|          0|    1|      0.0|           0.0|          0.0|(10,[0,1,4,6],[3....|\n",
            "|       0|     3|39.0|    1|    5| 31.275|          6|    0|      0.0|           0.0|          0.0|[3.0,39.0,1.0,5.0...|\n",
            "|       0|     3|14.0|    0|    0| 7.8542|          0|    1|      1.0|           0.0|          1.0|[3.0,14.0,0.0,0.0...|\n",
            "|       1|     2|55.0|    0|    0|   16.0|          0|    1|      1.0|           0.0|          2.0|[2.0,55.0,0.0,0.0...|\n",
            "|       0|     3| 2.0|    4|    1| 29.125|          5|    0|      0.0|           2.0|          3.0|[3.0,2.0,4.0,1.0,...|\n",
            "|       1|     2|33.0|    0|    0|   13.0|          0|    1|      0.0|           0.0|          0.0|(10,[0,1,4,6],[2....|\n",
            "|       0|     3|31.0|    1|    0|   18.0|          1|    0|      1.0|           0.0|          2.0|[3.0,31.0,1.0,0.0...|\n",
            "|       1|     3|36.0|    0|    0|  7.225|          0|    1|      1.0|           1.0|          2.0|[3.0,36.0,0.0,0.0...|\n",
            "+--------+------+----+-----+-----+-------+-----------+-----+---------+--------------+-------------+--------------------+\n",
            "only showing top 20 rows\n",
            "\n"
          ]
        }
      ]
    },
    {
      "cell_type": "code",
      "source": [
        "#Split Data\n",
        "(trainingData, testData) = feature_vector.randomSplit([0.8, 0.2],seed = 11)"
      ],
      "metadata": {
        "id": "y4Pr4zNc49Ef"
      },
      "execution_count": 44,
      "outputs": []
    },
    {
      "cell_type": "markdown",
      "source": [
        "# **Membuat Model**"
      ],
      "metadata": {
        "id": "wy9N02d35FJO"
      }
    },
    {
      "cell_type": "code",
      "source": [
        "#Menggunakan Logistic Regression\n",
        "from pyspark.ml.classification import LogisticRegression\n",
        "lr = LogisticRegression(labelCol=\"Survived\", featuresCol=\"features\")\n",
        "#Training algo\n",
        "lrModel = lr.fit(trainingData)\n",
        "lr_prediction = lrModel.transform(testData)\n",
        "lr_prediction.select(\"prediction\", \"Survived\", \"features\").show()\n",
        "evaluator = MulticlassClassificationEvaluator(labelCol=\"Survived\", predictionCol=\"prediction\", metricName=\"accuracy\")"
      ],
      "metadata": {
        "colab": {
          "base_uri": "https://localhost:8080/"
        },
        "id": "TwdjNY5u5J1F",
        "outputId": "4fac47eb-c099-44d3-9dc9-de34d0ee4456"
      },
      "execution_count": 45,
      "outputs": [
        {
          "output_type": "stream",
          "name": "stdout",
          "text": [
            "+----------+--------+--------------------+\n",
            "|prediction|Survived|            features|\n",
            "+----------+--------+--------------------+\n",
            "|       1.0|       0|(10,[0,1,4,6,8],[...|\n",
            "|       1.0|       0|(10,[0,1,4,6,8],[...|\n",
            "|       0.0|       0|(10,[0,1,4,6],[1....|\n",
            "|       0.0|       0|(10,[0,1,2,4,5],[...|\n",
            "|       0.0|       0|(10,[0,1,4,6,8],[...|\n",
            "|       0.0|       0|(10,[0,1,2,4,5],[...|\n",
            "|       0.0|       0|(10,[0,1,6],[1.0,...|\n",
            "|       0.0|       0|(10,[0,1,4,6],[1....|\n",
            "|       0.0|       0|(10,[0,1,4,6],[1....|\n",
            "|       0.0|       0|(10,[0,1,4,6],[1....|\n",
            "|       1.0|       0|(10,[0,1,4,6],[1....|\n",
            "|       0.0|       0|(10,[0,1,2,4,5],[...|\n",
            "|       1.0|       0|(10,[0,1,3,4,5],[...|\n",
            "|       0.0|       0|(10,[0,1,2,4,5],[...|\n",
            "|       0.0|       0|(10,[0,1,4,6],[1....|\n",
            "|       0.0|       0|[1.0,58.0,0.0,2.0...|\n",
            "|       0.0|       0|(10,[0,1,4,6],[1....|\n",
            "|       0.0|       0|(10,[0,1,4,6],[1....|\n",
            "|       0.0|       0|(10,[0,1,4,6,8],[...|\n",
            "|       0.0|       0|[2.0,19.0,1.0,1.0...|\n",
            "+----------+--------+--------------------+\n",
            "only showing top 20 rows\n",
            "\n"
          ]
        }
      ]
    },
    {
      "cell_type": "code",
      "source": [
        "lr_accuracy = evaluator.evaluate(lr_prediction)\n",
        "print(\"Accuracy of LogisticRegression is = %g\"% (lr_accuracy))\n",
        "print(\"Test Error of LogisticRegression = %g \" % (1.0 - lr_accuracy))"
      ],
      "metadata": {
        "colab": {
          "base_uri": "https://localhost:8080/"
        },
        "id": "mXejdruS5OSq",
        "outputId": "f3b5c715-efb5-461b-c633-a6c73919b199"
      },
      "execution_count": 46,
      "outputs": [
        {
          "output_type": "stream",
          "name": "stdout",
          "text": [
            "Accuracy of LogisticRegression is = 0.771277\n",
            "Test Error of LogisticRegression = 0.228723 \n"
          ]
        }
      ]
    },
    {
      "cell_type": "code",
      "source": [
        "#Menggunakan Desicion Tree Classifier\n",
        "from pyspark.ml.classification import DecisionTreeClassifier\n",
        "dt = DecisionTreeClassifier(labelCol=\"Survived\", featuresCol=\"features\")\n",
        "dt_model = dt.fit(trainingData)\n",
        "dt_prediction = dt_model.transform(testData)\n",
        "dt_prediction.select(\"prediction\", \"Survived\", \"features\").show()"
      ],
      "metadata": {
        "colab": {
          "base_uri": "https://localhost:8080/"
        },
        "id": "YStY6R3t5SI8",
        "outputId": "b616933d-8465-4599-cddb-3c651889b74f"
      },
      "execution_count": 47,
      "outputs": [
        {
          "output_type": "stream",
          "name": "stdout",
          "text": [
            "+----------+--------+--------------------+\n",
            "|prediction|Survived|            features|\n",
            "+----------+--------+--------------------+\n",
            "|       0.0|       0|(10,[0,1,4,6,8],[...|\n",
            "|       0.0|       0|(10,[0,1,4,6,8],[...|\n",
            "|       1.0|       0|(10,[0,1,4,6],[1....|\n",
            "|       0.0|       0|(10,[0,1,2,4,5],[...|\n",
            "|       1.0|       0|(10,[0,1,4,6,8],[...|\n",
            "|       0.0|       0|(10,[0,1,2,4,5],[...|\n",
            "|       0.0|       0|(10,[0,1,6],[1.0,...|\n",
            "|       0.0|       0|(10,[0,1,4,6],[1....|\n",
            "|       0.0|       0|(10,[0,1,4,6],[1....|\n",
            "|       0.0|       0|(10,[0,1,4,6],[1....|\n",
            "|       0.0|       0|(10,[0,1,4,6],[1....|\n",
            "|       0.0|       0|(10,[0,1,2,4,5],[...|\n",
            "|       0.0|       0|(10,[0,1,3,4,5],[...|\n",
            "|       0.0|       0|(10,[0,1,2,4,5],[...|\n",
            "|       0.0|       0|(10,[0,1,4,6],[1....|\n",
            "|       0.0|       0|[1.0,58.0,0.0,2.0...|\n",
            "|       0.0|       0|(10,[0,1,4,6],[1....|\n",
            "|       0.0|       0|(10,[0,1,4,6],[1....|\n",
            "|       0.0|       0|(10,[0,1,4,6,8],[...|\n",
            "|       0.0|       0|[2.0,19.0,1.0,1.0...|\n",
            "+----------+--------+--------------------+\n",
            "only showing top 20 rows\n",
            "\n"
          ]
        }
      ]
    },
    {
      "cell_type": "code",
      "source": [
        "dt_accuracy = evaluator.evaluate(dt_prediction)\n",
        "print(\"Accuracy of DecisionTreeClassifier is = %g\"% (dt_accuracy))\n",
        "print(\"Test Error of DecisionTreeClassifier = %g \" % (1.0 - dt_accuracy))"
      ],
      "metadata": {
        "colab": {
          "base_uri": "https://localhost:8080/"
        },
        "id": "wKUq3pQK5ZaA",
        "outputId": "837a8dd5-4bf8-4a24-a4a8-b3d3c905da4d"
      },
      "execution_count": 48,
      "outputs": [
        {
          "output_type": "stream",
          "name": "stdout",
          "text": [
            "Accuracy of DecisionTreeClassifier is = 0.819149\n",
            "Test Error of DecisionTreeClassifier = 0.180851 \n"
          ]
        }
      ]
    },
    {
      "cell_type": "code",
      "source": [
        "#Menggunakan Random Forest Classifier\n",
        "from pyspark.ml.classification import RandomForestClassifier\n",
        "rf = DecisionTreeClassifier(labelCol=\"Survived\", featuresCol=\"features\")\n",
        "rf_model = rf.fit(trainingData)\n",
        "rf_prediction = rf_model.transform(testData)\n",
        "rf_prediction.select(\"prediction\", \"Survived\", \"features\").show()"
      ],
      "metadata": {
        "colab": {
          "base_uri": "https://localhost:8080/"
        },
        "id": "SBsX1H2a5fI2",
        "outputId": "60777259-ac4d-41e7-de52-521e311d9c94"
      },
      "execution_count": 49,
      "outputs": [
        {
          "output_type": "stream",
          "name": "stdout",
          "text": [
            "+----------+--------+--------------------+\n",
            "|prediction|Survived|            features|\n",
            "+----------+--------+--------------------+\n",
            "|       0.0|       0|(10,[0,1,4,6,8],[...|\n",
            "|       0.0|       0|(10,[0,1,4,6,8],[...|\n",
            "|       1.0|       0|(10,[0,1,4,6],[1....|\n",
            "|       0.0|       0|(10,[0,1,2,4,5],[...|\n",
            "|       1.0|       0|(10,[0,1,4,6,8],[...|\n",
            "|       0.0|       0|(10,[0,1,2,4,5],[...|\n",
            "|       0.0|       0|(10,[0,1,6],[1.0,...|\n",
            "|       0.0|       0|(10,[0,1,4,6],[1....|\n",
            "|       0.0|       0|(10,[0,1,4,6],[1....|\n",
            "|       0.0|       0|(10,[0,1,4,6],[1....|\n",
            "|       0.0|       0|(10,[0,1,4,6],[1....|\n",
            "|       0.0|       0|(10,[0,1,2,4,5],[...|\n",
            "|       0.0|       0|(10,[0,1,3,4,5],[...|\n",
            "|       0.0|       0|(10,[0,1,2,4,5],[...|\n",
            "|       0.0|       0|(10,[0,1,4,6],[1....|\n",
            "|       0.0|       0|[1.0,58.0,0.0,2.0...|\n",
            "|       0.0|       0|(10,[0,1,4,6],[1....|\n",
            "|       0.0|       0|(10,[0,1,4,6],[1....|\n",
            "|       0.0|       0|(10,[0,1,4,6,8],[...|\n",
            "|       0.0|       0|[2.0,19.0,1.0,1.0...|\n",
            "+----------+--------+--------------------+\n",
            "only showing top 20 rows\n",
            "\n"
          ]
        }
      ]
    },
    {
      "cell_type": "code",
      "source": [
        "rf_accuracy = evaluator.evaluate(rf_prediction)\n",
        "print(\"Accuracy of RandomForestClassifier is = %g\"% (rf_accuracy))\n",
        "print(\"Test Error of RandomForestClassifier  = %g \" % (1.0 - rf_accuracy))"
      ],
      "metadata": {
        "colab": {
          "base_uri": "https://localhost:8080/"
        },
        "id": "sy6_yizi5ggj",
        "outputId": "c7f1e423-43c7-4c0d-a762-64d1aeb5d80c"
      },
      "execution_count": 50,
      "outputs": [
        {
          "output_type": "stream",
          "name": "stdout",
          "text": [
            "Accuracy of RandomForestClassifier is = 0.819149\n",
            "Test Error of RandomForestClassifier  = 0.180851 \n"
          ]
        }
      ]
    },
    {
      "cell_type": "code",
      "source": [
        "#Menggunakan Gradient-Boosted tree Classifier\n",
        "from pyspark.ml.classification import GBTClassifier\n",
        "gbt = GBTClassifier(labelCol=\"Survived\", featuresCol=\"features\",maxIter=10)\n",
        "gbt_model = gbt.fit(trainingData)\n",
        "gbt_prediction = gbt_model.transform(testData)\n",
        "gbt_prediction.select(\"prediction\", \"Survived\", \"features\").show()"
      ],
      "metadata": {
        "colab": {
          "base_uri": "https://localhost:8080/"
        },
        "id": "koOIjHjU5ixE",
        "outputId": "a00a1a75-44ef-4120-952f-780120a335d2"
      },
      "execution_count": 51,
      "outputs": [
        {
          "output_type": "stream",
          "name": "stdout",
          "text": [
            "+----------+--------+--------------------+\n",
            "|prediction|Survived|            features|\n",
            "+----------+--------+--------------------+\n",
            "|       1.0|       0|(10,[0,1,4,6,8],[...|\n",
            "|       0.0|       0|(10,[0,1,4,6,8],[...|\n",
            "|       1.0|       0|(10,[0,1,4,6],[1....|\n",
            "|       0.0|       0|(10,[0,1,2,4,5],[...|\n",
            "|       1.0|       0|(10,[0,1,4,6,8],[...|\n",
            "|       0.0|       0|(10,[0,1,2,4,5],[...|\n",
            "|       0.0|       0|(10,[0,1,6],[1.0,...|\n",
            "|       0.0|       0|(10,[0,1,4,6],[1....|\n",
            "|       0.0|       0|(10,[0,1,4,6],[1....|\n",
            "|       0.0|       0|(10,[0,1,4,6],[1....|\n",
            "|       0.0|       0|(10,[0,1,4,6],[1....|\n",
            "|       0.0|       0|(10,[0,1,2,4,5],[...|\n",
            "|       0.0|       0|(10,[0,1,3,4,5],[...|\n",
            "|       0.0|       0|(10,[0,1,2,4,5],[...|\n",
            "|       0.0|       0|(10,[0,1,4,6],[1....|\n",
            "|       0.0|       0|[1.0,58.0,0.0,2.0...|\n",
            "|       0.0|       0|(10,[0,1,4,6],[1....|\n",
            "|       0.0|       0|(10,[0,1,4,6],[1....|\n",
            "|       0.0|       0|(10,[0,1,4,6,8],[...|\n",
            "|       0.0|       0|[2.0,19.0,1.0,1.0...|\n",
            "+----------+--------+--------------------+\n",
            "only showing top 20 rows\n",
            "\n"
          ]
        }
      ]
    },
    {
      "cell_type": "code",
      "source": [
        "gbt_accuracy = evaluator.evaluate(gbt_prediction)\n",
        "print(\"Accuracy of Gradient-boosted tree classifie is = %g\"% (gbt_accuracy))\n",
        "print(\"Test Error of Gradient-boosted tree classifie %g\"% (1.0 - gbt_accuracy))"
      ],
      "metadata": {
        "colab": {
          "base_uri": "https://localhost:8080/"
        },
        "id": "yRJ99an35vTt",
        "outputId": "ba363f43-fa89-4062-f5ca-a4e496d63057"
      },
      "execution_count": 52,
      "outputs": [
        {
          "output_type": "stream",
          "name": "stdout",
          "text": [
            "Accuracy of Gradient-boosted tree classifie is = 0.803191\n",
            "Test Error of Gradient-boosted tree classifie 0.196809\n"
          ]
        }
      ]
    },
    {
      "cell_type": "markdown",
      "source": [
        "# **Visualisasi Data**"
      ],
      "metadata": {
        "id": "bwm_DdQJ5yRi"
      }
    },
    {
      "cell_type": "code",
      "source": [
        "#Algoritma Logistic Regression\n",
        "\n",
        "import pandas as pd\n",
        "import matplotlib.pyplot as plt\n",
        "\n",
        "# Data in the form of a dictionary\n",
        "error = 1-lr_accuracy\n",
        "accuracy = lr_accuracy\n",
        "\n",
        "# Convert to percentage strings\n",
        "accuracy = f\"{lr_accuracy * 100:.1f}%\"  # Format as a percentage with one decimal\n",
        "error = f\"{error * 100:.1f}%\"  # Format as a percentage with one decimal\n",
        "\n",
        "# Data in the form of a dictionary\n",
        "data = {'Metric': ['Accuracy', 'Error'],\n",
        "        'Value': [float(accuracy.strip('%')), float(error.strip('%'))]}\n",
        "\n",
        "# Create DataFrame\n",
        "df = pd.DataFrame(data)\n",
        "\n",
        "# Plot\n",
        "plt.figure(figsize=(8, 8))\n",
        "plt.pie(df['Value'], labels=df['Metric'], autopct='%1.1f%%', startangle=90)\n",
        "plt.title('Model Performance From Algorithm Logistic Regression')\n",
        "plt.show()\n"
      ],
      "metadata": {
        "colab": {
          "base_uri": "https://localhost:8080/",
          "height": 667
        },
        "id": "ngiheojj51TW",
        "outputId": "2c7d718d-8243-4142-bce7-a17ccd446aef"
      },
      "execution_count": 59,
      "outputs": [
        {
          "output_type": "display_data",
          "data": {
            "text/plain": [
              "<Figure size 800x800 with 1 Axes>"
            ],
            "image/png": "[encoded data removed]"
          },
          "metadata": {}
        }
      ]
    },
    {
      "cell_type": "code",
      "source": [
        "#Decision Tree Classifier\n",
        "\n",
        "import pandas as pd\n",
        "import matplotlib.pyplot as plt\n",
        "\n",
        "# Data in the form of a dictionary\n",
        "error = 1-dt_accuracy\n",
        "accuracy = dt_accuracy\n",
        "\n",
        "# Convert to percentage strings\n",
        "accuracy = f\"{accuracy * 100:.1f}%\"  # Format as a percentage with one decimal\n",
        "error = f\"{error * 100:.1f}%\"  # Format as a percentage with one decimal\n",
        "\n",
        "# Data in the form of a dictionary\n",
        "data = {'Metric': ['Accuracy', 'Error'],\n",
        "        'Value': [float(accuracy.strip('%')), float(error.strip('%'))]}\n",
        "\n",
        "# Create DataFrame\n",
        "df = pd.DataFrame(data)\n",
        "\n",
        "# Plot\n",
        "plt.figure(figsize=(8, 8))\n",
        "plt.pie(df['Value'], labels=df['Metric'], autopct='%1.1f%%', startangle=90)\n",
        "plt.title('Model Performance From Algorithm Decision Tree Classifier')\n",
        "plt.show()\n"
      ],
      "metadata": {
        "colab": {
          "base_uri": "https://localhost:8080/",
          "height": 667
        },
        "id": "8ca0J-6L58cD",
        "outputId": "beca4bc0-48c1-47dd-cac6-ef75861d4a23"
      },
      "execution_count": 60,
      "outputs": [
        {
          "output_type": "display_data",
          "data": {
            "text/plain": [
              "<Figure size 800x800 with 1 Axes>"
            ],
            "image/png": "[encoded data removed]"
          },
          "metadata": {}
        }
      ]
    },
    {
      "cell_type": "code",
      "source": [
        "#Random Forest Classifier\n",
        "\n",
        "import pandas as pd\n",
        "import matplotlib.pyplot as plt\n",
        "\n",
        "# Data in the form of a dictionary\n",
        "error = 1-rf_accuracy\n",
        "accuracy = rf_accuracy\n",
        "\n",
        "# Convert to percentage strings\n",
        "accuracy = f\"{accuracy * 100:.1f}%\"  # Format as a percentage with one decimal\n",
        "error = f\"{error * 100:.1f}%\"  # Format as a percentage with one decimal\n",
        "\n",
        "# Data in the form of a dictionary\n",
        "data = {'Metric': ['Accuracy', 'Error'],\n",
        "        'Value': [float(accuracy.strip('%')), float(error.strip('%'))]}\n",
        "\n",
        "# Create DataFrame\n",
        "df = pd.DataFrame(data)\n",
        "\n",
        "# Plot\n",
        "plt.figure(figsize=(8, 8))\n",
        "plt.pie(df['Value'], labels=df['Metric'], autopct='%1.1f%%', startangle=90)\n",
        "plt.title('Model Performance From Algorithm Random Forest Classifier')\n",
        "plt.show()\n"
      ],
      "metadata": {
        "colab": {
          "base_uri": "https://localhost:8080/",
          "height": 667
        },
        "id": "z5klPzTF6BW0",
        "outputId": "b2c2e64a-c22a-43fb-99dc-686d53113a87"
      },
      "execution_count": 61,
      "outputs": [
        {
          "output_type": "display_data",
          "data": {
            "text/plain": [
              "<Figure size 800x800 with 1 Axes>"
            ],
            "image/png": "[encoded data removed]"
          },
          "metadata": {}
        }
      ]
    },
    {
      "cell_type": "code",
      "source": [
        "#Gradient-Boosted Classifier\n",
        "\n",
        "import pandas as pd\n",
        "import matplotlib.pyplot as plt\n",
        "\n",
        "# Data in the form of a dictionary\n",
        "error = 1-gbt_accuracy\n",
        "accuracy = gbt_accuracy\n",
        "\n",
        "# Convert to percentage strings\n",
        "accuracy = f\"{accuracy * 100:.1f}%\"  # Format as a percentage with one decimal\n",
        "error = f\"{error * 100:.1f}%\"  # Format as a percentage with one decimal\n",
        "\n",
        "# Data in the form of a dictionary\n",
        "data = {'Metric': ['Accuracy', 'Error'],\n",
        "        'Value': [float(accuracy.strip('%')), float(error.strip('%'))]}\n",
        "\n",
        "# Create DataFrame\n",
        "df = pd.DataFrame(data)\n",
        "\n",
        "# Plot\n",
        "plt.figure(figsize=(8, 8))\n",
        "plt.pie(df['Value'], labels=df['Metric'], autopct='%1.1f%%', startangle=90)\n",
        "plt.title('Model Performance From Algorithm Gradient-boosted tree classifier')\n",
        "plt.show()\n"
      ],
      "metadata": {
        "colab": {
          "base_uri": "https://localhost:8080/",
          "height": 667
        },
        "id": "rBOPJMcA6G__",
        "outputId": "45baba29-2a55-4cfb-b006-1f6986251823"
      },
      "execution_count": 62,
      "outputs": [
        {
          "output_type": "display_data",
          "data": {
            "text/plain": [
              "<Figure size 800x800 with 1 Axes>"
            ],
            "image/png": "[encoded data removed]"
          },
          "metadata": {}
        }
      ]
    },
    {
      "cell_type": "code",
      "source": [
        "import matplotlib.pyplot as plt\n",
        "import numpy as np\n",
        "\n",
        "error_rf = 1-rf_accuracy\n",
        "error_df = 1-dt_accuracy\n",
        "error_lr = 1-lr_accuracy\n",
        "error_gbt = 1-gbt_accuracy\n",
        "# Sample data\n",
        "Algoritma_Model = ['Logistic Regression', 'Decision Tree Classifier', 'Random Forest Classifier', 'Gradient-boosted tree classifier']\n",
        "values1 = [lr_accuracy, dt_accuracy, lr_accuracy, gbt_accuracy]\n",
        "values2 = [error_lr, error_df, error_rf, error_gbt]\n",
        "\n",
        "x = np.arange(len(Algoritma_Model))  # the label locations\n",
        "\n",
        "# Plot\n",
        "fig, ax = plt.subplots(figsize=(12, 6))\n",
        "ax.bar(Algoritma_Model, values1, label='Group 1')\n",
        "ax.bar(Algoritma_Model, values2, bottom=values1, label='Group 2')\n",
        "\n",
        "ax.set_xlabel('Algoritma_Model')\n",
        "ax.set_ylabel('Persentase')\n",
        "ax.set_title('Perbandingan Hasil Algoritma Dari Model Klasifikasi ')\n",
        "ax.legend()\n",
        "\n",
        "plt.show()\n"
      ],
      "metadata": {
        "colab": {
          "base_uri": "https://localhost:8080/",
          "height": 360
        },
        "id": "-8X9mpyQ6NxZ",
        "outputId": "c702f947-2982-45f4-c803-2f964b75e3d7"
      },
      "execution_count": 63,
      "outputs": [
        {
          "output_type": "display_data",
          "data": {
            "text/plain": [
              "<Figure size 1200x600 with 1 Axes>"
            ],
            "image/png": "[encoded data removed]"
          },
          "metadata": {}
        }
      ]
    },
    {
      "cell_type": "code",
      "source": [
        "import matplotlib.pyplot as plt\n",
        "import numpy as np\n",
        "\n",
        "error_rf = 1-rf_accuracy\n",
        "error_df = 1-dt_accuracy\n",
        "error_lr = 1-lr_accuracy\n",
        "error_gbt = 1-gbt_accuracy\n",
        "\n",
        "# Sample data\n",
        "Algoritma_Model = ['Logistic Regression', 'Decision Tree Classifier', 'Random Forest Classifier', 'Gradient-boosted tree classifier']\n",
        "values1 = [lr_accuracy, dt_accuracy, lr_accuracy, gbt_accuracy]\n",
        "values2 = [error_lr, error_df, error_rf, error_gbt]\n",
        "x = np.arange(len(Algoritma_Model))  # the label locations\n",
        "width = 0.35  # the width of the bars\n",
        "\n",
        "# Plot\n",
        "fig, ax = plt.subplots(figsize=(12, 6))\n",
        "rects1 = ax.bar(x - width/2, values1, width, label='Accuracy')\n",
        "rects2 = ax.bar(x + width/2, values2, width, label='Error')\n",
        "\n",
        "ax.set_xlabel('Algoritma_Model')\n",
        "ax.set_ylabel('Persentase')\n",
        "ax.set_title('Perbandingan Hasil Algoritma Dari Model Klasifikasi')\n",
        "ax.set_xticks(x)\n",
        "ax.set_xticklabels(Algoritma_Model)\n",
        "ax.legend()\n",
        "\n",
        "plt.show()"
      ],
      "metadata": {
        "colab": {
          "base_uri": "https://localhost:8080/",
          "height": 360
        },
        "id": "1cx7Zveq6PJH",
        "outputId": "848e0d94-c73e-4b80-e263-dbc9dd653be9"
      },
      "execution_count": 64,
      "outputs": [
        {
          "output_type": "display_data",
          "data": {
            "text/plain": [
              "<Figure size 1200x600 with 1 Axes>"
            ],
            "image/png": "[encoded data removed]"
          },
          "metadata": {}
        }
      ]
    }
  ]
}